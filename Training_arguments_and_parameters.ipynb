{
 "cells": [
  {
   "cell_type": "code",
   "execution_count": 1,
   "id": "f74db62c-f95a-4b46-bb92-70effb9d0af9",
   "metadata": {},
   "outputs": [],
   "source": [
    "def hello_world_routine():\n",
    "    print(\"Hello world!\")"
   ]
  },
  {
   "cell_type": "code",
   "execution_count": 2,
   "id": "ded787cb-bbbb-4d30-b3d7-2682340db225",
   "metadata": {},
   "outputs": [
    {
     "name": "stdout",
     "output_type": "stream",
     "text": [
      "Hello world!\n"
     ]
    }
   ],
   "source": [
    "hello_world_routine()"
   ]
  },
  {
   "cell_type": "code",
   "execution_count": 3,
   "id": "18549fa5-d63b-4b90-8111-59d7d6bfa107",
   "metadata": {},
   "outputs": [],
   "source": [
    "def my_function(a_string):\n",
    "    print(a_string)"
   ]
  },
  {
   "cell_type": "code",
   "execution_count": 4,
   "id": "f1b4301b-f335-46a1-9fa2-cf78878b400a",
   "metadata": {},
   "outputs": [
    {
     "name": "stdout",
     "output_type": "stream",
     "text": [
      "this dasda _ is my string_23891328\n"
     ]
    }
   ],
   "source": [
    "abc = \"this dasda _ is my string_23891328\"\n",
    "my_function(abc)"
   ]
  },
  {
   "cell_type": "code",
   "execution_count": 5,
   "id": "d2667948-7a80-4c6d-867e-2daec0d938d0",
   "metadata": {},
   "outputs": [],
   "source": [
    "def y_on_a_line(m,x,b):\n",
    "    y = m*x + b\n",
    "    return y"
   ]
  },
  {
   "cell_type": "code",
   "execution_count": 6,
   "id": "53850345-7342-4d77-9439-416ba3fdc955",
   "metadata": {},
   "outputs": [
    {
     "data": {
      "text/plain": [
       "5"
      ]
     },
     "execution_count": 6,
     "metadata": {},
     "output_type": "execute_result"
    }
   ],
   "source": [
    "y_on_a_line(1,2,3)"
   ]
  },
  {
   "cell_type": "code",
   "execution_count": 7,
   "id": "4cc70e5a-465f-4ab2-9549-9c7c295b0124",
   "metadata": {},
   "outputs": [
    {
     "name": "stdout",
     "output_type": "stream",
     "text": [
      "y_on_a_line(5,5,5)) = 30\n",
      "y_on_a_line(-2, -2, 1) = 5\n",
      "y_on_a_line(0, 0, 0)   = 0\n"
     ]
    }
   ],
   "source": [
    "print(f\"y_on_a_line(5,5,5)) = {y_on_a_line(5,5,5)}\")\n",
    "print(f\"y_on_a_line(-2, -2, 1) = {y_on_a_line(-2,-2,1)}\")\n",
    "print(f\"y_on_a_line(0, 0, 0)   = {y_on_a_line(0,0,0)}\")"
   ]
  },
  {
   "cell_type": "code",
   "execution_count": 14,
   "id": "847ae9a7-e445-4ded-aee5-5c518e5155ee",
   "metadata": {},
   "outputs": [],
   "source": [
    "def three_part_string(str_one, str_two, str_three):\n",
    "    return str_one + str_two + str_three"
   ]
  },
  {
   "cell_type": "code",
   "execution_count": 15,
   "id": "e2df9e86-c7fc-4c9a-a26a-f7fcafc36635",
   "metadata": {},
   "outputs": [],
   "source": [
    "arg_one = 'abc'\n",
    "arg_two = '123'\n",
    "arg_three = 'xyz'"
   ]
  },
  {
   "cell_type": "code",
   "execution_count": 16,
   "id": "f651f9ad-56c3-4e44-8cf6-67e0abb31b6b",
   "metadata": {},
   "outputs": [
    {
     "data": {
      "text/plain": [
       "'abc123xyz'"
      ]
     },
     "execution_count": 16,
     "metadata": {},
     "output_type": "execute_result"
    }
   ],
   "source": [
    "three_part_string(arg_one, arg_two, arg_three)"
   ]
  },
  {
   "cell_type": "code",
   "execution_count": 17,
   "id": "acf4096c-033e-4955-bc53-8dfc9559cec3",
   "metadata": {},
   "outputs": [
    {
     "name": "stdout",
     "output_type": "stream",
     "text": [
      "abc123xyz\n",
      "abc123xyz\n",
      "abc123xyz\n"
     ]
    }
   ],
   "source": [
    "print(\n",
    "    three_part_string(\n",
    "        str_two=arg_two,\n",
    "        str_three=arg_three,\n",
    "        str_one=arg_one\n",
    "    )\n",
    ")\n",
    "print(\n",
    "    three_part_string(\n",
    "        str_three=arg_three,\n",
    "        str_one=arg_one,\n",
    "        str_two=arg_two\n",
    "    )\n",
    ")\n",
    "print(\n",
    "    three_part_string(\n",
    "        str_two=arg_two,\n",
    "        str_one=arg_one,\n",
    "        str_three=arg_three\n",
    "    )\n",
    ")"
   ]
  },
  {
   "cell_type": "code",
   "execution_count": 18,
   "id": "ba9b3f36-cc7e-48ac-aba9-8476746fa18c",
   "metadata": {},
   "outputs": [],
   "source": [
    "def optional_arg(str_one, \n",
    "                 str_two=\"is\", \n",
    "                 str_three=\"fun\"\n",
    "):\n",
    "\n",
    "  return \" \".join([str_one, str_two, str_three])"
   ]
  },
  {
   "cell_type": "code",
   "execution_count": 19,
   "id": "1b96a58d-0cd6-440a-ba40-98aa5506030f",
   "metadata": {},
   "outputs": [
    {
     "data": {
      "text/plain": [
       "'Python abcbc is lots of'"
      ]
     },
     "execution_count": 19,
     "metadata": {},
     "output_type": "execute_result"
    }
   ],
   "source": [
    "optional_arg(\"Python\", 'abcbc' ,\"is lots of\")"
   ]
  },
  {
   "cell_type": "code",
   "execution_count": 22,
   "id": "a45c2fac-8a89-4ba9-8796-34940e35fd2c",
   "metadata": {},
   "outputs": [],
   "source": [
    "import numpy as np\n",
    "def broadcast_subtract(my_list:np.array, my_scalar:float) -> np.ndarray:\n",
    "    result = my_list - my_scalar\n",
    "    return result"
   ]
  },
  {
   "cell_type": "code",
   "execution_count": 23,
   "id": "94ddb5c8-8291-4129-a640-b59413d517f0",
   "metadata": {},
   "outputs": [
    {
     "data": {
      "text/plain": [
       "array([-2, -1,  0])"
      ]
     },
     "execution_count": 23,
     "metadata": {},
     "output_type": "execute_result"
    }
   ],
   "source": [
    "broadcast_subtract(np.array([1,2,3]), 3 )"
   ]
  },
  {
   "cell_type": "code",
   "execution_count": 24,
   "id": "5c4fafa8-330e-4f27-987e-8c5f91495ad5",
   "metadata": {},
   "outputs": [
    {
     "name": "stdout",
     "output_type": "stream",
     "text": [
      "Help on function broadcast_subtract in module __main__:\n",
      "\n",
      "broadcast_subtract(my_list: <built-in function array>, my_scalar: float) -> numpy.ndarray\n",
      "\n"
     ]
    }
   ],
   "source": [
    "help(broadcast_subtract)"
   ]
  },
  {
   "cell_type": "code",
   "execution_count": 25,
   "id": "77db0ee6-19ad-45d6-a8c3-f402446757e5",
   "metadata": {},
   "outputs": [],
   "source": [
    " def broadcast_subtract(my_list:np.array, my_scalar:float) -> np.ndarray:\n",
    "    \"\"\" A function to substract a scalar from a numpy array.\n",
    "\n",
    "    Parameters:\n",
    "    my_list (np.array): You provide it, we substract it.\n",
    "    my_scalar (float): amount to substract by.\n",
    "\n",
    "    Returns:\n",
    "    np.array: the result equal to my_list - my_scalar\n",
    "\n",
    "    \"\"\"\n",
    "    result = my_list - my_scalar \n",
    "    return result"
   ]
  },
  {
   "cell_type": "code",
   "execution_count": 26,
   "id": "116bdf32-eba0-48f4-bcb0-a3a207f9f18c",
   "metadata": {},
   "outputs": [
    {
     "name": "stdout",
     "output_type": "stream",
     "text": [
      "Help on function broadcast_subtract in module __main__:\n",
      "\n",
      "broadcast_subtract(my_list: <built-in function array>, my_scalar: float) -> numpy.ndarray\n",
      "    A function to substract a scalar from a numpy array.\n",
      "    \n",
      "    Parameters:\n",
      "    my_list (np.array): You provide it, we substract it.\n",
      "    my_scalar (float): amount to substract by.\n",
      "    \n",
      "    Returns:\n",
      "    np.array: the result equal to my_list - my_scalar\n",
      "\n"
     ]
    }
   ],
   "source": [
    "help(broadcast_subtract)"
   ]
  },
  {
   "cell_type": "code",
   "execution_count": 27,
   "id": "ea644fcf-f6fd-47e1-9063-4b201dce1cce",
   "metadata": {},
   "outputs": [],
   "source": [
    "def y_on_a_line(m:float, x:float , b:float=0):\n",
    "    \"\"\" Calculate y for a line\n",
    "    \n",
    "    Parameters:\n",
    "    m (float): slope of the line\n",
    "    x (float): where we are on the number line\n",
    "    b (float): y-intercept of the line, optional.\n",
    "    \n",
    "    Returns:\n",
    "    float: y-value at x.\n",
    "    \"\"\"\n",
    "    \n",
    "    y = m*x + b\n",
    "    return y"
   ]
  },
  {
   "cell_type": "code",
   "execution_count": 28,
   "id": "88bbe0f2-930c-475d-9df1-1373199c6fdc",
   "metadata": {},
   "outputs": [
    {
     "data": {
      "text/plain": [
       "1"
      ]
     },
     "execution_count": 28,
     "metadata": {},
     "output_type": "execute_result"
    }
   ],
   "source": [
    "y_on_a_line(1,1)"
   ]
  },
  {
   "cell_type": "code",
   "execution_count": 29,
   "id": "232e5b55-1dde-4abd-a521-0530dc2504b0",
   "metadata": {},
   "outputs": [
    {
     "data": {
      "text/plain": [
       "4"
      ]
     },
     "execution_count": 29,
     "metadata": {},
     "output_type": "execute_result"
    }
   ],
   "source": [
    "y_on_a_line(m=2,x=2)"
   ]
  },
  {
   "cell_type": "code",
   "execution_count": null,
   "id": "09384559-0a1c-445e-b352-c96196e1be92",
   "metadata": {},
   "outputs": [],
   "source": []
  }
 ],
 "metadata": {
  "kernelspec": {
   "display_name": "Python 3",
   "language": "python",
   "name": "python3"
  },
  "language_info": {
   "codemirror_mode": {
    "name": "ipython",
    "version": 3
   },
   "file_extension": ".py",
   "mimetype": "text/x-python",
   "name": "python",
   "nbconvert_exporter": "python",
   "pygments_lexer": "ipython3",
   "version": "3.8.8"
  }
 },
 "nbformat": 4,
 "nbformat_minor": 5
}
